{
 "cells": [
  {
   "cell_type": "code",
   "execution_count": 252,
   "id": "92058b6a",
   "metadata": {},
   "outputs": [],
   "source": [
    "import json"
   ]
  },
  {
   "cell_type": "code",
   "execution_count": 253,
   "id": "fe8964d3",
   "metadata": {},
   "outputs": [],
   "source": [
    "# Read the template file\n",
    "with open('config/open_api_template.json', 'r', encoding='utf-8') as file:\n",
    "    swagger_template = json.load(file)"
   ]
  },
  {
   "cell_type": "code",
   "execution_count": 254,
   "id": "8bc244b0",
   "metadata": {},
   "outputs": [],
   "source": [
    "# Path to metadata file to be converted\n",
    "metadata_path = 'in/VacancyCompetencyRequirement__c.json'"
   ]
  },
  {
   "cell_type": "code",
   "execution_count": 255,
   "id": "f6a37a49",
   "metadata": {},
   "outputs": [],
   "source": [
    "\n",
    "\n",
    "# Define the type mapping:\n",
    "map_types = {\n",
    "    'address': 'object',\n",
    "    'boolean': 'boolean',\n",
    "    'currency': 'number',\n",
    "    'date': 'string',\n",
    "    'datetime': 'string',\n",
    "    'double': 'number',\n",
    "    'id': 'string',\n",
    "    'int': 'integer',\n",
    "    'phone': 'string',\n",
    "    'picklist': 'string',\n",
    "    'reference': 'string',\n",
    "    'string': 'string',\n",
    "    'textarea': 'string',\n",
    "    'url': 'string'\n",
    " }\n",
    "\n",
    "# Schema template\n",
    "sobject_template = {\n",
    "    \"type\": \"object\",\n",
    "    \"properties\": {\n",
    "      \"apiSObjectType\": {\n",
    "        \"type\": \"string\",\n",
    "        \"description\": \"The type of the current sObject, used as a discriminator for OAS tooling.\"\n",
    "      },\n",
    "      \"attributes\": {\n",
    "        \"type\": \"object\",\n",
    "        \"properties\": {\n",
    "          \"type\": {\n",
    "            \"type\": \"string\"\n",
    "          },\n",
    "          \"url\": {\n",
    "            \"type\": \"string\"\n",
    "          }\n",
    "        },\n",
    "        \"readOnly\": True\n",
    "      }\n",
    "    },\n",
    "    \"discriminator\": {\n",
    "      \"propertyName\": \"apiSObjectType\"\n",
    "    }\n",
    "  }\n",
    "\n",
    "# Read the metadata file\n",
    "with open(metadata_path, 'r', encoding='utf-8') as file:\n",
    "    metadata = json.load(file)\n",
    "\n"
   ]
  },
  {
   "cell_type": "code",
   "execution_count": 256,
   "id": "362d1a63",
   "metadata": {},
   "outputs": [
    {
     "data": {
      "text/plain": [
       "set()"
      ]
     },
     "execution_count": 256,
     "metadata": {},
     "output_type": "execute_result"
    }
   ],
   "source": [
    "unique_types = { obj['type'] for obj in metadata['fields'] }\n",
    "map_types_set = set(map_types.keys())\n",
    "check = unique_types - map_types_set\n",
    "check"
   ]
  },
  {
   "cell_type": "code",
   "execution_count": 257,
   "id": "5495ff27",
   "metadata": {},
   "outputs": [],
   "source": [
    "name = metadata['name']\n",
    "\n",
    "# Build the properties\n",
    "properties = {}\n",
    "for field in metadata['fields']:\n",
    "    property = {}\n",
    "    property['type'] = map_types[field['type']]\n",
    "    if not field['updateable']:\n",
    "        property['readOnly'] = True\n",
    "    if field['type'] == 'date':\n",
    "        property['format'] = 'date'\n",
    "    elif field['type'] == 'datetime':\n",
    "        property['format'] = 'date-time'\n",
    "    elif field['type'] == 'int':\n",
    "        property['format'] = 'int32'\n",
    "\n",
    "    # Save the property\n",
    "    properties[field['name']] = property\n"
   ]
  },
  {
   "cell_type": "code",
   "execution_count": 258,
   "id": "d70d6c77",
   "metadata": {},
   "outputs": [],
   "source": [
    "# Initialise the swagger\n",
    "swagger = swagger_template"
   ]
  },
  {
   "cell_type": "code",
   "execution_count": 259,
   "id": "4e489a98",
   "metadata": {},
   "outputs": [],
   "source": [
    "# Add the new QueryResult schema\n",
    "query_name = 'QueryResult' + name\n",
    "query_result_schema = swagger['components']['schemas']['QueryResult']\n",
    "query_result_schema['properties']['records']['items']['properties'] = properties"
   ]
  },
  {
   "cell_type": "code",
   "execution_count": 260,
   "id": "2adc7d9b",
   "metadata": {},
   "outputs": [],
   "source": [
    "# Add the new SObject schema\n",
    "sobject_name = 'SObject' + name\n",
    "sobject_schema = sobject_template\n",
    "sobject_schema['properties'].update(properties)\n"
   ]
  },
  {
   "cell_type": "code",
   "execution_count": 261,
   "id": "9b6b7219",
   "metadata": {},
   "outputs": [],
   "source": [
    "# Add the new schemas\n",
    "swagger['components']['schemas'][query_name] = query_result_schema\n",
    "swagger['components']['schemas'][sobject_name] = sobject_schema\n",
    "\n",
    "# Update the query path\n",
    "swagger['paths']['/query']['get']['operationId'] = swagger['paths']['/query']['get']['operationId'] + name\n",
    "swagger['paths']['/query']['get']['responses']['200']['content']['application/xml']['schema']['$ref'] = '#/components/schemas/' + query_name\n",
    "swagger['paths']['/query']['get']['responses']['200']['content']['application/json']['schema']['$ref'] = '#/components/schemas/' + query_name\n",
    "\n",
    "# Update the create path\n",
    "path_name = '/sobjects/' + name\n",
    "action = 'post'\n",
    "swagger['paths'][path_name] = swagger['paths'].pop('/sobjects/{sObject}')\n",
    "del swagger['paths'][path_name]['get']\n",
    "swagger['paths'][path_name][action]['operationId'] = swagger['paths'][path_name][action]['operationId'] + name\n",
    "swagger['paths'][path_name][action]['parameters'] = [obj for obj in swagger['paths'][path_name][action]['parameters'] if obj['name'] != 'sObject']\n",
    "del swagger['paths'][path_name][action]['requestBody']['content']['application/json']['examples']\n",
    "swagger['paths'][path_name][action]['requestBody']['content']['application/json']['schema']['$ref'] = '#/components/schemas/' + sobject_name\n",
    "\n",
    "# Update the get object path\n",
    "path_name = '/sobjects/' + name + '/{id}'\n",
    "swagger['paths'][path_name] = swagger['paths'].pop('/sobjects/{sObject}/{id}')\n",
    "action = 'get'\n",
    "swagger['paths'][path_name][action]['operationId'] = swagger['paths'][path_name][action]['operationId'] + name\n",
    "swagger['paths'][path_name][action]['parameters'] = [obj for obj in swagger['paths'][path_name][action]['parameters'] if obj['name'] != 'sObject']\n",
    "swagger['paths'][path_name][action]['responses']['200']['content']['application/json']['schema']['$ref'] = '#/components/schemas/' + sobject_name\n",
    "\n",
    "# Update the delete object path\n",
    "action = 'delete'\n",
    "swagger['paths'][path_name][action]['operationId'] = swagger['paths'][path_name][action]['operationId'] + name\n",
    "swagger['paths'][path_name][action]['parameters'] = [obj for obj in swagger['paths'][path_name][action]['parameters'] if obj['name'] != 'sObject']\n",
    "\n",
    "# Update the patch object path\n",
    "action = 'patch'\n",
    "swagger['paths'][path_name][action]['operationId'] = swagger['paths'][path_name][action]['operationId'] + name\n",
    "swagger['paths'][path_name][action]['parameters'] = [obj for obj in swagger['paths'][path_name][action]['parameters'] if obj['name'] != 'sObject']\n",
    "del swagger['paths'][path_name][action]['requestBody']['content']['application/json']['examples']\n",
    "swagger['paths'][path_name][action]['requestBody']['content']['application/json']['schema']['$ref'] = '#/components/schemas/' + sobject_name\n"
   ]
  },
  {
   "cell_type": "code",
   "execution_count": 262,
   "id": "1f045ad6",
   "metadata": {},
   "outputs": [],
   "source": [
    "with open(f'out/Salesforce_{ name }.json', 'w', encoding='utf-8') as file:\n",
    "    json.dump(swagger, file, indent=4)"
   ]
  }
 ],
 "metadata": {
  "kernelspec": {
   "display_name": ".venv",
   "language": "python",
   "name": "python3"
  },
  "language_info": {
   "codemirror_mode": {
    "name": "ipython",
    "version": 3
   },
   "file_extension": ".py",
   "mimetype": "text/x-python",
   "name": "python",
   "nbconvert_exporter": "python",
   "pygments_lexer": "ipython3",
   "version": "3.13.7"
  }
 },
 "nbformat": 4,
 "nbformat_minor": 5
}
